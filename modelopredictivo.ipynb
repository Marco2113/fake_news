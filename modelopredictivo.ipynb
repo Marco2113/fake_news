{
 "cells": [
  {
   "cell_type": "markdown",
   "id": "953a5ed5",
   "metadata": {},
   "source": [
    "# Modelo Predictivo Noticias Falsas NLP"
   ]
  },
  {
   "cell_type": "code",
   "execution_count": 1,
   "id": "fdfbaccb",
   "metadata": {},
   "outputs": [],
   "source": [
    "import pandas as pd\n",
    "import re\n",
    "import spacy\n",
    "import joblib\n",
    "from sklearn.feature_extraction.text import TfidfVectorizer\n",
    "from sklearn.ensemble import RandomForestClassifier\n",
    "from sklearn.metrics import classification_report, confusion_matrix, ConfusionMatrixDisplay\n",
    "from sklearn.model_selection import train_test_split\n",
    "import matplotlib.pyplot as plt\n",
    "from sklearn.linear_model import LogisticRegression"
   ]
  },
  {
   "cell_type": "code",
   "execution_count": 5,
   "id": "09dd7483",
   "metadata": {},
   "outputs": [],
   "source": [
    "# Cargamos los dataset, limpiamos los separadores y agregamos titulos a las columnas\n",
    "\n",
    "train = pd.read_csv(\"data/training_data.csv\", sep=\"\\t\", header=None, names=[\"label\", \"title\"])\n",
    "test = pd.read_csv(\"data/testing_data.csv\", sep=\"\\t\", header=None, names=[\"label\", \"title\"])"
   ]
  },
  {
   "cell_type": "code",
   "execution_count": 17,
   "id": "2125f715",
   "metadata": {},
   "outputs": [],
   "source": [
    "#  Utilizaremos la lemantizacion multilingüe (español e inglés) usando spaCy\n",
    "\n",
    "nlp_es = spacy.load(\"es_core_news_sm\", disable=[\"parser\", \"ner\"])\n",
    "nlp_en = spacy.load(\"en_core_web_sm\", disable=[\"parser\", \"ner\"])\n",
    "\n",
    "# Función para detectar el idioma del texto\n",
    "\n",
    "def detectar_idioma_simple(texto):\n",
    "    texto = texto.lower()\n",
    "    if any(p in texto for p in [\" el \", \" la \", \" los \", \" una \", \" esto \", \" que \"]):\n",
    "        return \"es\"\n",
    "    return \"en\"\n",
    "\n",
    "# Creamos una función para limpiar el texto y lemantizarlo\n",
    "\n",
    "def limpiar_texto(texto):\n",
    "    texto = texto.lower()\n",
    "    texto = re.sub(r\"http\\S+|www\\S+|https\\S+\", '', texto)\n",
    "    texto = re.sub(r'\\@[\\w]*', '', texto)\n",
    "    texto = re.sub(r'\\#', '', texto)\n",
    "    texto = re.sub(r'[^\\w\\s]', '', texto)\n",
    "    texto = re.sub(r'\\d+', '', texto)\n",
    "    texto = texto.strip()\n",
    "\n",
    "    if not texto or len(texto.split()) < 1:\n",
    "        return \"\"\n",
    "\n",
    "    idioma = detectar_idioma_simple(texto)\n",
    "    nlp = nlp_es if idioma == \"es\" else nlp_en\n",
    "    doc = nlp(texto)\n",
    "    return \" \".join([token.lemma_ for token in doc])\n"
   ]
  },
  {
   "cell_type": "markdown",
   "id": "e0b8796a",
   "metadata": {},
   "source": [
    "## Vectorizamos y entrenamos el primer modelo Random Forest"
   ]
  },
  {
   "cell_type": "code",
   "execution_count": 19,
   "id": "468edc14",
   "metadata": {},
   "outputs": [],
   "source": [
    "train[\"clean_text\"] = train[\"title\"].apply(limpiar_texto) # Aplicamos la función de limpieza y lematización"
   ]
  },
  {
   "cell_type": "code",
   "execution_count": 20,
   "id": "92151078",
   "metadata": {},
   "outputs": [
    {
     "name": "stdout",
     "output_type": "stream",
     "text": [
      "              precision    recall  f1-score   support\n",
      "\n",
      "           0       0.93      0.93      0.93      3529\n",
      "           1       0.93      0.92      0.93      3302\n",
      "\n",
      "    accuracy                           0.93      6831\n",
      "   macro avg       0.93      0.93      0.93      6831\n",
      "weighted avg       0.93      0.93      0.93      6831\n",
      "\n"
     ]
    }
   ],
   "source": [
    "vectorizer = TfidfVectorizer(max_features=5000)\n",
    "X = vectorizer.fit_transform(train[\"clean_text\"])\n",
    "y = train[\"label\"]\n",
    "\n",
    "X_train, X_test, y_train, y_test = train_test_split(X, y, test_size=0.2, random_state=42)\n",
    "\n",
    "model = RandomForestClassifier(random_state=42)\n",
    "model.fit(X_train, y_train)\n",
    "\n",
    "y_pred = model.predict(X_test)\n",
    "\n",
    "print(classification_report(y_test, y_pred))"
   ]
  },
  {
   "cell_type": "markdown",
   "id": "8daa3ac7",
   "metadata": {},
   "source": [
    " El modelo tiene una precision con un 0.93 % procederemos a compararlo con otro modelo predictivo en este caso\n",
    " regresion lineal\n"
   ]
  },
  {
   "cell_type": "code",
   "execution_count": 21,
   "id": "3a36f6e2",
   "metadata": {},
   "outputs": [
    {
     "name": "stdout",
     "output_type": "stream",
     "text": [
      "              precision    recall  f1-score   support\n",
      "\n",
      "           0       0.94      0.92      0.93      3529\n",
      "           1       0.91      0.94      0.93      3302\n",
      "\n",
      "    accuracy                           0.93      6831\n",
      "   macro avg       0.93      0.93      0.93      6831\n",
      "weighted avg       0.93      0.93      0.93      6831\n",
      "\n"
     ]
    }
   ],
   "source": [
    "vectorizer = TfidfVectorizer(stop_words='english', max_features=5000) \n",
    "X = vectorizer.fit_transform(train['clean_text'])\n",
    "y = train['label']\n",
    "\n",
    "# División en entrenamiento y validación\n",
    "X_train, X_val, y_train, y_val = train_test_split(X, y, test_size=0.2, random_state=42)\n",
    "\n",
    "# Entrenar modelo\n",
    "model = LogisticRegression()\n",
    "model.fit(X_train, y_train)\n",
    "\n",
    "# Evaluación\n",
    "y_pred = model.predict(X_val)\n",
    "print(classification_report(y_val, y_pred))"
   ]
  },
  {
   "cell_type": "markdown",
   "id": "738daf16",
   "metadata": {},
   "source": [
    "Obtenemos un porcentaje de precision mayor con el segundo modelo, por ende usaremos el segundo modelo para la predicción de los datos de prueba."
   ]
  },
  {
   "cell_type": "code",
   "execution_count": 24,
   "id": "70a6cd90",
   "metadata": {},
   "outputs": [
    {
     "name": "stdout",
     "output_type": "stream",
     "text": [
      "              precision    recall  f1-score   support\n",
      "\n",
      "           0       0.94      0.92      0.93      3529\n",
      "           1       0.91      0.94      0.93      3302\n",
      "\n",
      "    accuracy                           0.93      6831\n",
      "   macro avg       0.93      0.93      0.93      6831\n",
      "weighted avg       0.93      0.93      0.93      6831\n",
      "\n"
     ]
    },
    {
     "data": {
      "image/png": "[encoded data removed]",
      "text/plain": [
       "<Figure size 640x480 with 2 Axes>"
      ]
     },
     "metadata": {},
     "output_type": "display_data"
    }
   ],
   "source": [
    "y_pred = model.predict(X_val)\n",
    "\n",
    "print(classification_report(y_test, y_pred))\n",
    "\n",
    "cm = confusion_matrix(y_test, y_pred)\n",
    "disp = ConfusionMatrixDisplay(confusion_matrix=cm)\n",
    "disp.plot()\n",
    "plt.title(\"Matriz de Confusión\")\n",
    "plt.show()"
   ]
  },
  {
   "cell_type": "code",
   "execution_count": null,
   "id": "e68bf5b4",
   "metadata": {},
   "outputs": [],
   "source": []
  }
 ],
 "metadata": {
  "kernelspec": {
   "display_name": "data",
   "language": "python",
   "name": "python3"
  },
  "language_info": {
   "codemirror_mode": {
    "name": "ipython",
    "version": 3
   },
   "file_extension": ".py",
   "mimetype": "text/x-python",
   "name": "python",
   "nbconvert_exporter": "python",
   "pygments_lexer": "ipython3",
   "version": "3.10.16"
  }
 },
 "nbformat": 4,
 "nbformat_minor": 5
}
